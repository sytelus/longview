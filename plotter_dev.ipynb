{
 "cells": [
  {
   "cell_type": "code",
   "execution_count": 1,
   "metadata": {
    "scrolled": false
   },
   "outputs": [],
   "source": [
    "import longview as lv\n",
    "import plotly\n",
    "import plotly.offline as py"
   ]
  },
  {
   "cell_type": "code",
   "execution_count": 9,
   "metadata": {
    "scrolled": false
   },
   "outputs": [
    {
     "name": "stdout",
     "output_type": "stream",
     "text": [
      "Flushing output cache (4 entries)\n"
     ]
    },
    {
     "data": {
      "application/vnd.jupyter.widget-view+json": {
       "model_id": "889883189107491ba9a0f5a67e60f781",
       "version_major": 2,
       "version_minor": 0
      },
      "text/plain": [
       "FigureWidget({\n",
       "    'data': [{'mode': 'lines',\n",
       "              'name': '335eb388-6f33-4457-b0e5-6290a7834c77',\n",
       "  …"
      ]
     },
     "metadata": {},
     "output_type": "display_data"
    },
    {
     "name": "stdout",
     "output_type": "stream",
     "text": [
      "15c47814-4bb0-4d64-b4b5-053c24f734d6 0 7 7\n",
      "15c47814-4bb0-4d64-b4b5-053c24f734d6 0 8 8\n",
      "15c47814-4bb0-4d64-b4b5-053c24f734d6 0 9 9\n",
      "15c47814-4bb0-4d64-b4b5-053c24f734d6 0 10 10\n",
      "15c47814-4bb0-4d64-b4b5-053c24f734d6 0 11 11\n",
      "15c47814-4bb0-4d64-b4b5-053c24f734d6 0 12 12\n",
      "15c47814-4bb0-4d64-b4b5-053c24f734d6 0 13 13\n",
      "15c47814-4bb0-4d64-b4b5-053c24f734d6 0 14 14\n"
     ]
    }
   ],
   "source": [
    "%reset -f out\n",
    "del p\n",
    "del cli\n",
    "del s1\n",
    "#lv.set_debug_verbosity(5)\n",
    "cli = lv.WatchClient()\n",
    "s1 = cli.create_stream('ev_i', 'map(lambda v:math.sqrt(v.val)*2, l)')\n",
    "\n",
    "p = lv.plotly.Plotter()\n",
    "p.add(s1, xtitle='Index', ytitle='SqY2')"
   ]
  },
  {
   "cell_type": "code",
   "execution_count": 3,
   "metadata": {
    "scrolled": true
   },
   "outputs": [
    {
     "data": {
      "text/plain": [
       "0"
      ]
     },
     "execution_count": 3,
     "metadata": {},
     "output_type": "execute_result"
    }
   ],
   "source": [
    "len(p.figwig.data[0].x)"
   ]
  },
  {
   "cell_type": "code",
   "execution_count": 4,
   "metadata": {
    "scrolled": false
   },
   "outputs": [
    {
     "name": "stdout",
     "output_type": "stream",
     "text": [
      "True\n",
      "0 0\n"
     ]
    }
   ],
   "source": [
    "p.analyse(p.figwig)"
   ]
  },
  {
   "cell_type": "code",
   "execution_count": 5,
   "metadata": {
    "scrolled": true
   },
   "outputs": [
    {
     "data": {
      "text/plain": [
       "'15c47814-4bb0-4d64-b4b5-053c24f734d6'"
      ]
     },
     "execution_count": 5,
     "metadata": {},
     "output_type": "execute_result"
    }
   ],
   "source": [
    "p.figwig._uuided"
   ]
  },
  {
   "cell_type": "code",
   "execution_count": 6,
   "metadata": {},
   "outputs": [],
   "source": [
    "import gc"
   ]
  },
  {
   "cell_type": "code",
   "execution_count": 7,
   "metadata": {
    "scrolled": true
   },
   "outputs": [
    {
     "data": {
      "text/plain": [
       "556"
      ]
     },
     "execution_count": 7,
     "metadata": {},
     "output_type": "execute_result"
    }
   ],
   "source": [
    "gc.collect()"
   ]
  },
  {
   "cell_type": "code",
   "execution_count": 8,
   "metadata": {},
   "outputs": [],
   "source": [
    "def my_reset(*varnames):\n",
    "    \"\"\"\n",
    "    varnames are what you want to keep\n",
    "    \"\"\"\n",
    "    globals_ = globals()\n",
    "    to_save = {v: globals_[v] for v in varnames}\n",
    "    to_save['my_reset'] = my_reset  # lets keep this function by default\n",
    "    del globals_\n",
    "    get_ipython().magic(\"reset\")\n",
    "    globals().update(to_save)"
   ]
  },
  {
   "cell_type": "code",
   "execution_count": 10,
   "metadata": {
    "scrolled": true
   },
   "outputs": [
    {
     "data": {
      "application/vnd.jupyter.widget-view+json": {
       "model_id": "8d415318e58f4ecca1f092a5431049d3",
       "version_major": 2,
       "version_minor": 0
      },
      "text/plain": [
       "FigureWidget({\n",
       "    'data': [{'mode': 'lines',\n",
       "              'name': '801fa376-4399-4990-b18c-94c09f3efa06',\n",
       "  …"
      ]
     },
     "metadata": {},
     "output_type": "display_data"
    },
    {
     "name": "stdout",
     "output_type": "stream",
     "text": [
      "15c47814-4bb0-4d64-b4b5-053c24f734d6 0 15 15\n",
      "15c47814-4bb0-4d64-b4b5-053c24f734d6 0 16 16\n",
      "15c47814-4bb0-4d64-b4b5-053c24f734d6 0 17 17\n",
      "15c47814-4bb0-4d64-b4b5-053c24f734d6 0 18 18\n",
      "15c47814-4bb0-4d64-b4b5-053c24f734d6 0 19 19\n",
      "15c47814-4bb0-4d64-b4b5-053c24f734d6 0 20 20\n",
      "15c47814-4bb0-4d64-b4b5-053c24f734d6 0 21 21\n",
      "15c47814-4bb0-4d64-b4b5-053c24f734d6 0 22 22\n",
      "15c47814-4bb0-4d64-b4b5-053c24f734d6 0 23 23\n",
      "15c47814-4bb0-4d64-b4b5-053c24f734d6 0 24 24\n",
      "15c47814-4bb0-4d64-b4b5-053c24f734d6 0 25 25\n",
      "15c47814-4bb0-4d64-b4b5-053c24f734d6 0 26 26\n",
      "15c47814-4bb0-4d64-b4b5-053c24f734d6 0 27 27\n",
      "15c47814-4bb0-4d64-b4b5-053c24f734d6 0 28 28\n",
      "15c47814-4bb0-4d64-b4b5-053c24f734d6 0 29 29\n",
      "15c47814-4bb0-4d64-b4b5-053c24f734d6 0 30 30\n",
      "15c47814-4bb0-4d64-b4b5-053c24f734d6 0 31 31\n",
      "15c47814-4bb0-4d64-b4b5-053c24f734d6 0 32 32\n",
      "15c47814-4bb0-4d64-b4b5-053c24f734d6 0 33 33\n",
      "15c47814-4bb0-4d64-b4b5-053c24f734d6 0 34 34\n",
      "15c47814-4bb0-4d64-b4b5-053c24f734d6 0 35 35\n",
      "15c47814-4bb0-4d64-b4b5-053c24f734d6 0 36 36\n",
      "15c47814-4bb0-4d64-b4b5-053c24f734d6 0 37 37\n",
      "15c47814-4bb0-4d64-b4b5-053c24f734d6 0 38 38\n",
      "15c47814-4bb0-4d64-b4b5-053c24f734d6 0 39 39\n",
      "15c47814-4bb0-4d64-b4b5-053c24f734d6 0 40 40\n",
      "15c47814-4bb0-4d64-b4b5-053c24f734d6 0 41 41\n",
      "15c47814-4bb0-4d64-b4b5-053c24f734d6 0 42 42\n",
      "15c47814-4bb0-4d64-b4b5-053c24f734d6 0 43 43\n",
      "15c47814-4bb0-4d64-b4b5-053c24f734d6 0 44 44\n",
      "15c47814-4bb0-4d64-b4b5-053c24f734d6 0 45 45\n",
      "15c47814-4bb0-4d64-b4b5-053c24f734d6 0 46 46\n",
      "15c47814-4bb0-4d64-b4b5-053c24f734d6 0 47 47\n",
      "15c47814-4bb0-4d64-b4b5-053c24f734d6 0 48 48\n",
      "15c47814-4bb0-4d64-b4b5-053c24f734d6 0 49 49\n",
      "15c47814-4bb0-4d64-b4b5-053c24f734d6 0 50 50\n",
      "15c47814-4bb0-4d64-b4b5-053c24f734d6 0 51 51\n",
      "15c47814-4bb0-4d64-b4b5-053c24f734d6 0 52 52\n",
      "15c47814-4bb0-4d64-b4b5-053c24f734d6 0 53 53\n",
      "15c47814-4bb0-4d64-b4b5-053c24f734d6 0 54 54\n"
     ]
    }
   ],
   "source": [
    "cli = lv.WatchClient()\n",
    "s1 = cli.create_stream('ev_i', 'map(lambda v:math.sqrt(v.val)*2, l)')\n",
    "\n",
    "p = lv.plotly.Plotter()\n",
    "p.add(s1, xtitle='Index', ytitle='SqY2')"
   ]
  },
  {
   "cell_type": "code",
   "execution_count": 13,
   "metadata": {},
   "outputs": [
    {
     "name": "stdout",
     "output_type": "stream",
     "text": [
      "Flushing input history\n",
      "15c47814-4bb0-4d64-b4b5-053c24f734d6 0 65 65\n",
      "15c47814-4bb0-4d64-b4b5-053c24f734d6 0 66 66\n",
      "15c47814-4bb0-4d64-b4b5-053c24f734d6 0 67 67\n",
      "15c47814-4bb0-4d64-b4b5-053c24f734d6 0 68 68\n",
      "15c47814-4bb0-4d64-b4b5-053c24f734d6 0 69 69\n",
      "15c47814-4bb0-4d64-b4b5-053c24f734d6 0 70 70\n",
      "15c47814-4bb0-4d64-b4b5-053c24f734d6 0 71 71\n",
      "15c47814-4bb0-4d64-b4b5-053c24f734d6 0 72 72\n"
     ]
    }
   ],
   "source": [
    "%reset -f in\n",
    "%reset -f"
   ]
  }
 ],
 "metadata": {
  "kernelspec": {
   "display_name": "Python 3",
   "language": "python",
   "name": "python3"
  },
  "language_info": {
   "codemirror_mode": {
    "name": "ipython",
    "version": 3
   },
   "file_extension": ".py",
   "mimetype": "text/x-python",
   "name": "python",
   "nbconvert_exporter": "python",
   "pygments_lexer": "ipython3",
   "version": "3.6.5"
  }
 },
 "nbformat": 4,
 "nbformat_minor": 2
}
