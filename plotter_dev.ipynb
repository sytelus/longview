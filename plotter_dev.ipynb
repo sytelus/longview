{
 "cells": [
  {
   "cell_type": "code",
   "execution_count": 1,
   "metadata": {
    "scrolled": false
   },
   "outputs": [],
   "source": [
    "import longview as lv\n",
    "import plotly\n",
    "import plotly.offline as py"
   ]
  },
  {
   "cell_type": "code",
   "execution_count": 2,
   "metadata": {
    "scrolled": true
   },
   "outputs": [
    {
     "name": "stdout",
     "output_type": "stream",
     "text": [
      "[Debug][3]: starting ioloop... : None : t=8.09\n",
      "[Debug][5]: Waiting for call on ioloop : None : t=8.10\n",
      "[Debug][1]: Client connecting... : None : t=8.11\n",
      "[Debug][1]: Client connected! : None : t=8.11\n",
      "[Debug][1]: Subscriber connecting... : None : t=8.11\n",
      "[Debug][3]: Client initialized : None : t=8.12\n",
      "[Debug][3]: Client - creating stream... : None : t=8.12\n",
      "[Debug][3]: sending create streamreq... : None : t=8.12\n",
      "[Debug][3]: sent create streamreq : None : t=8.12\n"
     ]
    }
   ],
   "source": [
    "lv.set_debug_verbosity(10)\n",
    "cli = lv.WatchClient()\n",
    "s1 = cli.create_stream('ev_i', 'map(lambda v:math.sqrt(v.val)*2, l)')\n",
    "\n",
    "p = lv.plotly.Plotter()\n",
    "p.add(s1, xtitle='Index', ytitle='SqY2')"
   ]
  },
  {
   "cell_type": "code",
   "execution_count": 3,
   "metadata": {},
   "outputs": [
    {
     "name": "stdout",
     "output_type": "stream",
     "text": [
      "[Debug][5]: Waiting for call on ioloop : None : t=8.13\n",
      "[Debug][1]: Subscriber connecting... : None : t=8.14\n",
      "[Debug][1]: Subscriber connected! : None : t=8.14\n",
      "[Debug][1]: Client connecting... : None : t=8.15\n",
      "[Debug][1]: Client connected! : None : t=8.15\n",
      "[Debug][1]: Subscriber connecting... : None : t=8.16\n",
      "[Debug][1]: Subscriber connected! : None : t=8.16\n",
      "[Debug][3]: Client initialized : None : t=8.17[Debug][1]: Subscriber connecting... : None : t=8.17\n",
      "[Debug][3]: Client - creating stream... : None : t=8.17\n",
      "[Debug][3]: sending create streamreq... : None : t=8.17\n",
      "\n",
      "[Debug][1]: Subscriber connected! : None : t=8.17\n",
      "[Debug][3]: sent create streamreq : None : t=8.17\n",
      "[Debug][6]: Received - SeverMgmtevent : None : t=8.66\n",
      "[Debug][6]: Received - SeverMgmtevent : None : t=8.66\n",
      "[Debug][6]: Received - SeverMgmtevent : None : t=9.66\n",
      "[Debug][6]: Received - SeverMgmtevent : None : t=9.67\n",
      "[Debug][5]: Event for unknown stream : ev_i : t=10.66\n",
      "[Debug][5]: Received event for stream : ev_i : t=10.66\n",
      "[Debug][6]: Event eval received : ev_i : t=10.66\n",
      "[Debug][6]: Received - SeverMgmtevent : None : t=10.67\n",
      "[Debug][6]: Received - SeverMgmtevent : None : t=10.67\n",
      "[Debug][6]: Received - SeverMgmtevent : None : t=11.67\n",
      "[Debug][6]: Received - SeverMgmtevent : None : t=11.67\n",
      "[Debug][6]: Received - SeverMgmtevent : None : t=12.67\n",
      "[Debug][6]: Received - SeverMgmtevent : None : t=12.67\n",
      "[Debug][6]: Received - SeverMgmtevent : None : t=13.67\n",
      "[Debug][6]: Received - SeverMgmtevent : None : t=13.67\n",
      "[Debug][5]: Event for unknown stream : ev_i : t=14.67\n",
      "[Debug][5]: Received event for stream : ev_i : t=14.67\n",
      "[Debug][6]: Event eval received : ev_i : t=14.67\n",
      "[Debug][6]: Received - SeverMgmtevent : None : t=14.67\n",
      "[Debug][6]: Received - SeverMgmtevent : None : t=14.67\n",
      "[Debug][6]: Received - SeverMgmtevent : None : t=15.67\n",
      "[Debug][6]: Received - SeverMgmtevent : None : t=15.67\n",
      "[Debug][6]: Received - SeverMgmtevent : None : t=16.67\n",
      "[Debug][6]: Received - SeverMgmtevent : None : t=16.67\n",
      "[Debug][6]: Received - SeverMgmtevent : None : t=17.67\n",
      "[Debug][6]: Received - SeverMgmtevent : None : t=17.67\n",
      "[Debug][5]: Event for unknown stream : ev_i : t=18.67\n",
      "[Debug][5]: Received event for stream : ev_i : t=18.67\n",
      "[Debug][6]: Event eval received : ev_i : t=18.67\n",
      "[Debug][6]: Received - SeverMgmtevent : None : t=18.67\n",
      "[Debug][6]: Received - SeverMgmtevent : None : t=18.67\n",
      "[Debug][6]: Received - SeverMgmtevent : None : t=19.67\n",
      "[Debug][6]: Received - SeverMgmtevent : None : t=19.68\n",
      "[Debug][6]: Received - SeverMgmtevent : None : t=20.68\n",
      "[Debug][6]: Received - SeverMgmtevent : None : t=20.68\n",
      "[Debug][6]: Received - SeverMgmtevent : None : t=21.68\n",
      "[Debug][6]: Received - SeverMgmtevent : None : t=21.68\n",
      "[Debug][5]: Event for unknown stream : ev_i : t=22.67\n",
      "[Debug][5]: Received event for stream : ev_i : t=22.67\n",
      "[Debug][6]: Event eval received : ev_i : t=22.67\n",
      "[Debug][6]: Received - SeverMgmtevent : None : t=22.68\n",
      "[Debug][6]: Received - SeverMgmtevent : None : t=22.68\n",
      "[Debug][6]: Received - SeverMgmtevent : None : t=23.68\n",
      "[Debug][6]: Received - SeverMgmtevent : None : t=23.68\n",
      "[Debug][6]: Received - SeverMgmtevent : None : t=24.68\n",
      "[Debug][6]: Received - SeverMgmtevent : None : t=24.68\n",
      "[Debug][6]: Received - SeverMgmtevent : None : t=25.68\n",
      "[Debug][6]: Received - SeverMgmtevent : None : t=25.68\n",
      "[Debug][5]: Event for unknown stream : ev_i : t=26.68\n",
      "[Debug][5]: Received event for stream : ev_i : t=26.68\n",
      "[Debug][6]: Event eval received : ev_i : t=26.68\n",
      "[Debug][6]: Received - SeverMgmtevent : None : t=26.68\n",
      "[Debug][6]: Received - SeverMgmtevent : None : t=26.68\n",
      "[Debug][6]: Received - SeverMgmtevent : None : t=27.68\n",
      "[Debug][6]: Received - SeverMgmtevent : None : t=27.68\n",
      "[Debug][6]: Received - SeverMgmtevent : None : t=28.69\n",
      "[Debug][6]: Received - SeverMgmtevent : None : t=28.69\n",
      "[Debug][6]: Received - SeverMgmtevent : None : t=29.69\n",
      "[Debug][6]: Received - SeverMgmtevent : None : t=29.69\n",
      "[Debug][5]: Event for unknown stream : ev_i : t=30.68\n",
      "[Debug][5]: Received event for stream : ev_i : t=30.68\n",
      "[Debug][6]: Event eval received : ev_i : t=30.68\n",
      "[Debug][6]: Received - SeverMgmtevent : None : t=30.69\n",
      "[Debug][6]: Received - SeverMgmtevent : None : t=30.69\n",
      "[Debug][6]: Received - SeverMgmtevent : None : t=31.69\n",
      "[Debug][6]: Received - SeverMgmtevent : None : t=31.69\n",
      "[Debug][6]: Received - SeverMgmtevent : None : t=32.69\n",
      "[Debug][6]: Received - SeverMgmtevent : None : t=32.69\n",
      "[Debug][6]: Received - SeverMgmtevent : None : t=33.69\n",
      "[Debug][6]: Received - SeverMgmtevent : None : t=33.69\n",
      "[Debug][5]: Event for unknown stream : ev_i : t=34.68\n",
      "[Debug][5]: Received event for stream : ev_i : t=34.68\n",
      "[Debug][6]: Event eval received : ev_i : t=34.68\n",
      "[Debug][6]: Received - SeverMgmtevent : None : t=34.69\n",
      "[Debug][6]: Received - SeverMgmtevent : None : t=34.69\n",
      "[Debug][6]: Received - SeverMgmtevent : None : t=35.69\n",
      "[Debug][6]: Received - SeverMgmtevent : None : t=35.69\n",
      "[Debug][6]: Received - SeverMgmtevent : None : t=36.69\n",
      "[Debug][6]: Received - SeverMgmtevent : None : t=36.69\n",
      "[Debug][6]: Received - SeverMgmtevent : None : t=37.69\n",
      "[Debug][6]: Received - SeverMgmtevent : None : t=37.70\n",
      "[Debug][5]: Event for unknown stream : ev_i : t=38.69\n",
      "[Debug][5]: Received event for stream : ev_i : t=38.69\n",
      "[Debug][6]: Event eval received : ev_i : t=38.69\n",
      "[Debug][6]: Received - SeverMgmtevent : None : t=38.69\n",
      "[Debug][6]: Received - SeverMgmtevent : None : t=38.70\n",
      "[Debug][6]: Received - SeverMgmtevent : None : t=39.70\n",
      "[Debug][6]: Received - SeverMgmtevent : None : t=39.70\n",
      "[Debug][6]: Received - SeverMgmtevent : None : t=40.70\n",
      "[Debug][6]: Received - SeverMgmtevent : None : t=40.70\n",
      "[Debug][6]: Received - SeverMgmtevent : None : t=41.70\n",
      "[Debug][6]: Received - SeverMgmtevent : None : t=41.70\n",
      "[Debug][5]: Event for unknown stream : ev_i : t=42.69\n",
      "[Debug][5]: Received event for stream : ev_i : t=42.69\n",
      "[Debug][6]: Event eval received : ev_i : t=42.69\n",
      "[Debug][6]: Received - SeverMgmtevent : None : t=42.70\n",
      "[Debug][6]: Received - SeverMgmtevent : None : t=42.70\n",
      "[Debug][6]: Received - SeverMgmtevent : None : t=43.70\n",
      "[Debug][6]: Received - SeverMgmtevent : None : t=43.70\n"
     ]
    }
   ],
   "source": [
    "lv.set_debug_verbosity(10)\n",
    "cli2 = lv.WatchClient()\n",
    "s12 = cli2.create_stream('ev_i', 'map(lambda v:math.sqrt(v.val)*2, l)')\n",
    "\n",
    "p1 = lv.plotly.Plotter()\n",
    "p1.add(s12, xtitle='Index', ytitle='SqY2')"
   ]
  }
 ],
 "metadata": {
  "kernelspec": {
   "display_name": "Python 3",
   "language": "python",
   "name": "python3"
  },
  "language_info": {
   "codemirror_mode": {
    "name": "ipython",
    "version": 3
   },
   "file_extension": ".py",
   "mimetype": "text/x-python",
   "name": "python",
   "nbconvert_exporter": "python",
   "pygments_lexer": "ipython3",
   "version": "3.6.5"
  }
 },
 "nbformat": 4,
 "nbformat_minor": 2
}
