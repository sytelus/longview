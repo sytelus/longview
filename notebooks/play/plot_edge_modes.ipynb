{
 "cells": [
  {
   "cell_type": "code",
   "execution_count": 1,
   "metadata": {},
   "outputs": [],
   "source": [
    "%matplotlib inline\n",
    "from PIL import Image\n",
    "import numpy as np\n",
    "import matplotlib.pyplot as plt\n",
    "\n",
    "from skimage import data, color\n",
    "from skimage.transform import rescale, resize, downscale_local_mean"
   ]
  },
  {
   "cell_type": "markdown",
   "metadata": {},
   "source": [
    "\n",
    "=========================\n",
    "Interpolation: Edge Modes\n",
    "=========================\n",
    "\n",
    "This example illustrates the different edge modes available during\n",
    "interpolation in routines such as :py:func:`skimage.transform.rescale`\n",
    "and :py:func:`skimage.transform.resize`.\n",
    "\n"
   ]
  },
  {
   "cell_type": "code",
   "execution_count": 23,
   "metadata": {},
   "outputs": [],
   "source": [
    "import textwrap \n",
    "def wrap_string(s, chars_per_line=12):\n",
    "   return \"\\n\".join(textwrap.wrap(s, chars_per_line))\n"
   ]
  },
  {
   "cell_type": "code",
   "execution_count": 30,
   "metadata": {},
   "outputs": [
    {
     "data": {
      "image/png": "[encoded data removed]",
      "text/plain": [
       "<Figure size 576x288 with 6 Axes>"
      ]
     },
     "metadata": {},
     "output_type": "display_data"
    }
   ],
   "source": [
    "modes = ['constant', 'edge', 'wrap', 'reflect', 'symmetric']\n",
    "fig, axes = plt.subplots(2, 3, figsize=(8, 4))"
   ]
  },
  {
   "cell_type": "code",
   "execution_count": 31,
   "metadata": {},
   "outputs": [
    {
     "data": {
      "text/plain": [
       "<Figure size 432x288 with 0 Axes>"
      ]
     },
     "metadata": {},
     "output_type": "display_data"
    }
   ],
   "source": [
    "ax = axes.ravel()\n",
    "#img = data.camera()\n",
    "img = np.zeros((16, 16))\n",
    "img[:8, :8] += 1\n",
    "img[:4, :4] += 1\n",
    "img[:2, :2] += 1\n",
    "img[:1, :1] += 2\n",
    "img[8, 8] = 4\n",
    "\n",
    "fontsize = 8\n",
    "\n",
    "for n, mode in enumerate(modes):\n",
    "    img_padded = rescale(img, (2, 2), \n",
    "                        mode=mode, preserve_range=True)\n",
    "    ax[n].imshow(img_padded, cmap='gray')\n",
    "    ax[n].set_title(wrap_string(mode*10), fontsize=fontsize)\n",
    "\n",
    "ax[len(modes)].imshow(img, cmap='gray')\n",
    "ax[len(modes)].set_title('Originial', fontsize=fontsize)    \n",
    "    \n",
    "for a in ax:\n",
    "#     a.set_axis_off()\n",
    "    a.set_aspect('equal')\n",
    "\n",
    "plt.tight_layout()\n",
    "plt.show()"
   ]
  }
 ],
 "metadata": {
  "kernelspec": {
   "display_name": "Python 3",
   "language": "python",
   "name": "python3"
  },
  "language_info": {
   "codemirror_mode": {
    "name": "ipython",
    "version": 3
   },
   "file_extension": ".py",
   "mimetype": "text/x-python",
   "name": "python",
   "nbconvert_exporter": "python",
   "pygments_lexer": "ipython3",
   "version": "3.6.5"
  }
 },
 "nbformat": 4,
 "nbformat_minor": 1
}
