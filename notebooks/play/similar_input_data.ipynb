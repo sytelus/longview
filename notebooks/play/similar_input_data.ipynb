{
 "cells": [
  {
   "cell_type": "code",
   "execution_count": 1,
   "metadata": {
    "scrolled": false
   },
   "outputs": [
    {
     "name": "stdout",
     "output_type": "stream",
     "text": [
      "Using data in D:\\datasets\\dlc\\current\n"
     ]
    }
   ],
   "source": [
    "import tensorwatch as tw\n",
    "from dlc_lib import DlcDataset\n",
    "ds = DlcDataset(linearize=True, data_root='D:\\\\datasets\\\\dlc\\\\current')\n",
    "ds = tw.pyt_ds2list(ds, 100)"
   ]
  },
  {
   "cell_type": "code",
   "execution_count": 2,
   "metadata": {},
   "outputs": [],
   "source": [
    "import tensorwatch as tw"
   ]
  },
  {
   "cell_type": "code",
   "execution_count": 3,
   "metadata": {},
   "outputs": [],
   "source": [
    "import numpy as np\n",
    "import matplotlib.pyplot as plt\n",
    "def show_image(img, size=None):\n",
    "    if size is not None or (hasattr(img, 'shape') and len(img.shape) == 1):\n",
    "        if size is None:\n",
    "            # make guess for 1-dim tensors\n",
    "            h = int(math.sqrt(img.shape[0]))\n",
    "            w = int(img.shape[0] / h)\n",
    "            size = h,w\n",
    "        img = np.reshape(img, size)\n",
    "    #fig = plt.Figure()\n",
    "    #ax = fig.add_subplot(111)\n",
    "    #ax.imshow(img)\n",
    "    return plt.imshow(img) #TODO support console"
   ]
  },
  {
   "cell_type": "code",
   "execution_count": 4,
   "metadata": {},
   "outputs": [],
   "source": [
    "cap_imgs = tw.col2array(ds, 0)"
   ]
  },
  {
   "cell_type": "code",
   "execution_count": 5,
   "metadata": {},
   "outputs": [],
   "source": [
    "results = tw.search_similar([ds[3][0]], cap_imgs, topk=3)"
   ]
  },
  {
   "cell_type": "code",
   "execution_count": 6,
   "metadata": {},
   "outputs": [],
   "source": [
    "img_plot_data = [(data, str(i) + '-' + str(score), ds[i][1]) for score, (i, input, data) in results[0]]"
   ]
  },
  {
   "cell_type": "code",
   "execution_count": 8,
   "metadata": {
    "scrolled": true
   },
   "outputs": [
    {
     "data": {
      "application/vnd.jupyter.widget-view+json": {
       "model_id": "9be1e38debdb4e8db2a924f0d6a8f176",
       "version_major": 2,
       "version_minor": 0
      },
      "text/plain": [
       "HBox(children=(Output(),), layout=Layout(height='3in', width='100%'))"
      ]
     },
     "metadata": {},
     "output_type": "display_data"
    }
   ],
   "source": [
    "img_plot = tw.open(img_plot_data, type='image', rows=2, cols=2, img_width=39, img_height=69, viz_img_scale=3, height='3in')\n",
    "img_plot.show()"
   ]
  }
 ],
 "metadata": {
  "kernelspec": {
   "display_name": "Python 3",
   "language": "python",
   "name": "python3"
  },
  "language_info": {
   "codemirror_mode": {
    "name": "ipython",
    "version": 3
   },
   "file_extension": ".py",
   "mimetype": "text/x-python",
   "name": "python",
   "nbconvert_exporter": "python",
   "pygments_lexer": "ipython3",
   "version": "3.6.5"
  }
 },
 "nbformat": 4,
 "nbformat_minor": 2
}
