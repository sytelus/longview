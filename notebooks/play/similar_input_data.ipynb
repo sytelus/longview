{
 "cells": [
  {
   "cell_type": "code",
   "execution_count": 1,
   "metadata": {},
   "outputs": [
    {
     "name": "stdout",
     "output_type": "stream",
     "text": [
      "Using data in D:\\datasets\\dlc\\current\n"
     ]
    }
   ],
   "source": [
    "from dlc_lib import DlcDataset\n",
    "ds = DlcDataset(linearize=True, data_root='D:\\\\datasets\\\\dlc\\\\current')"
   ]
  },
  {
   "cell_type": "code",
   "execution_count": 2,
   "metadata": {},
   "outputs": [
    {
     "data": {
      "text/plain": [
       "43635"
      ]
     },
     "execution_count": 2,
     "metadata": {},
     "output_type": "execute_result"
    }
   ],
   "source": [
    "len(ds)"
   ]
  },
  {
   "cell_type": "code",
   "execution_count": 3,
   "metadata": {
    "scrolled": false
   },
   "outputs": [
    {
     "data": {
      "text/plain": [
       "(array([ 1.,  1.,  1., ...,  1.,  1.,  1.], dtype=float32),\n",
       " array([ 1.,  1.,  1., ...,  1.,  1.,  1.], dtype=float32),\n",
       " 0,\n",
       " array([ 0.35968485,  0.46526006,  0.53782076, ...,  0.53782076,\n",
       "         0.46526006,  0.35968485], dtype=float32))"
      ]
     },
     "execution_count": 3,
     "metadata": {},
     "output_type": "execute_result"
    }
   ],
   "source": [
    "ds[3]"
   ]
  },
  {
   "cell_type": "code",
   "execution_count": 4,
   "metadata": {},
   "outputs": [],
   "source": [
    "import tensorwatch as tw"
   ]
  },
  {
   "cell_type": "code",
   "execution_count": 5,
   "metadata": {
    "scrolled": false
   },
   "outputs": [
    {
     "data": {
      "image/png": "[encoded data removed]",
      "text/plain": [
       "<Figure size 432x288 with 1 Axes>"
      ]
     },
     "metadata": {},
     "output_type": "display_data"
    }
   ],
   "source": [
    "tw.show_image(ds[3][1], (39, 69))"
   ]
  },
  {
   "cell_type": "code",
   "execution_count": 6,
   "metadata": {},
   "outputs": [],
   "source": [
    "import heapq\n",
    "import scipy.spatial.distance"
   ]
  },
  {
   "cell_type": "code",
   "execution_count": 7,
   "metadata": {},
   "outputs": [],
   "source": [
    "def col2array(dataset, col):\n",
    "    return [row[col] for row in dataset]\n",
    "\n",
    "def search_similar(inputs, compare_to, algorithm='euclidean', topk=5):\n",
    "    all_scores = scipy.spatial.distance.cdist(inputs, compare_to, algorithm)\n",
    "    all_results = []\n",
    "    for input, scores in zip(inputs, all_scores):\n",
    "        result = []\n",
    "        for i, (score, data) in enumerate(zip(scores, compare_to)):\n",
    "            score = 1/(score + 1.0E-6)\n",
    "            if len(result) < topk:\n",
    "                heapq.heappush(result, (score, (i, input, data)))\n",
    "            else:\n",
    "                heapq.heappushpop(result, (score, (i, input, data)))\n",
    "        all_results.append(result)\n",
    "    return all_results"
   ]
  },
  {
   "cell_type": "code",
   "execution_count": 8,
   "metadata": {},
   "outputs": [],
   "source": [
    "cap_imgs = col2array(ds, 0)"
   ]
  },
  {
   "cell_type": "code",
   "execution_count": 9,
   "metadata": {},
   "outputs": [],
   "source": [
    "import matplotlib.pyplot as plt\n",
    "from PIL import Image\n",
    "from torchvision import transforms\n",
    "import numpy as np\n",
    "import math\n",
    "\n",
    "def linear_to_2d(img, size=None):\n",
    "    if size is not None or (hasattr(img, 'shape') and len(img.shape) == 1):\n",
    "        if size is None:\n",
    "            # make guess for 1-dim tensors\n",
    "            h = int(math.sqrt(img.shape[0]))\n",
    "            w = int(img.shape[0] / h)\n",
    "            size = h,w\n",
    "        img = np.reshape(img, size)\n",
    "    return img\n",
    "\n",
    "def stack_images(imgs):\n",
    "    return np.hstack(imgs)\n",
    "\n",
    "def show_image(img, size=None):\n",
    "    if size is not None or (hasattr(img, 'shape') and len(img.shape) == 1):\n",
    "        if size is None:\n",
    "            # make guess for 1-dim tensors\n",
    "            h = int(math.sqrt(img.shape[0]))\n",
    "            w = int(img.shape[0] / h)\n",
    "            size = h,w\n",
    "        img = np.reshape(img, size)\n",
    "    fig = plt.Figure()\n",
    "    ax = fig.add_subplot(111)\n",
    "    ax.imshow(img)\n",
    "    return plt.show()"
   ]
  },
  {
   "cell_type": "code",
   "execution_count": 10,
   "metadata": {},
   "outputs": [],
   "source": [
    "imgs = [linear_to_2d(img, (39, 69)) for img in [ds[0][1], ds[3][1]]]\n",
    "imgs = stack_images(imgs)\n",
    "show_image(imgs)"
   ]
  },
  {
   "cell_type": "code",
   "execution_count": 11,
   "metadata": {},
   "outputs": [],
   "source": [
    "results = search_similar([ds[3][0]], cap_imgs, topk=10)"
   ]
  },
  {
   "cell_type": "code",
   "execution_count": 12,
   "metadata": {
    "scrolled": true
   },
   "outputs": [
    {
     "data": {
      "text/plain": [
       "[[(0.15557890333428437,\n",
       "   (12250,\n",
       "    array([ 1.,  1.,  1., ...,  1.,  1.,  1.], dtype=float32),\n",
       "    array([ 1.        ,  1.        ,  0.88050663, ...,  1.        ,\n",
       "            1.        ,  1.        ], dtype=float32))),\n",
       "  (0.16028412544109186,\n",
       "   (198,\n",
       "    array([ 1.,  1.,  1., ...,  1.,  1.,  1.], dtype=float32),\n",
       "    array([ 1.        ,  1.        ,  0.83748621, ...,  1.        ,\n",
       "            1.        ,  0.96654737], dtype=float32))),\n",
       "  (0.16028412544109186,\n",
       "   (199,\n",
       "    array([ 1.,  1.,  1., ...,  1.,  1.,  1.], dtype=float32),\n",
       "    array([ 1.        ,  1.        ,  0.83748621, ...,  1.        ,\n",
       "            1.        ,  0.96654737], dtype=float32))),\n",
       "  (0.19155104768369732,\n",
       "   (11253,\n",
       "    array([ 1.,  1.,  1., ...,  1.,  1.,  1.], dtype=float32),\n",
       "    array([ 1.        ,  1.        ,  0.96654737, ...,  1.        ,\n",
       "            1.        ,  1.        ], dtype=float32))),\n",
       "  (0.2111349835851894,\n",
       "   (2206,\n",
       "    array([ 1.,  1.,  1., ...,  1.,  1.,  1.], dtype=float32),\n",
       "    array([ 1.        ,  1.        ,  1.        , ...,  0.83748621,\n",
       "            1.        ,  1.        ], dtype=float32))),\n",
       "  (0.2111349835851894,\n",
       "   (2207,\n",
       "    array([ 1.,  1.,  1., ...,  1.,  1.,  1.], dtype=float32),\n",
       "    array([ 1.        ,  1.        ,  1.        , ...,  0.83748621,\n",
       "            1.        ,  1.        ], dtype=float32))),\n",
       "  (0.18917496968024508,\n",
       "   (2203,\n",
       "    array([ 1.,  1.,  1., ...,  1.,  1.,  1.], dtype=float32),\n",
       "    array([ 1.,  1.,  1., ...,  1.,  1.,  1.], dtype=float32))),\n",
       "  (1000000.0,\n",
       "   (3,\n",
       "    array([ 1.,  1.,  1., ...,  1.,  1.,  1.], dtype=float32),\n",
       "    array([ 1.,  1.,  1., ...,  1.,  1.,  1.], dtype=float32))),\n",
       "  (0.19525923671385301,\n",
       "   (153,\n",
       "    array([ 1.,  1.,  1., ...,  1.,  1.,  1.], dtype=float32),\n",
       "    array([ 1.,  1.,  1., ...,  1.,  1.,  1.], dtype=float32))),\n",
       "  (1000000.0,\n",
       "   (4,\n",
       "    array([ 1.,  1.,  1., ...,  1.,  1.,  1.], dtype=float32),\n",
       "    array([ 1.,  1.,  1., ...,  1.,  1.,  1.], dtype=float32)))]]"
      ]
     },
     "execution_count": 12,
     "metadata": {},
     "output_type": "execute_result"
    }
   ],
   "source": [
    "results"
   ]
  },
  {
   "cell_type": "code",
   "execution_count": 24,
   "metadata": {},
   "outputs": [],
   "source": [
    "img_plot_data = [(linear_to_2d(input, (39, 69)), str(score), linear_to_2d(ds[i][1], (39, 69))) for score, (i, input, data) in results[0]]"
   ]
  },
  {
   "cell_type": "code",
   "execution_count": 14,
   "metadata": {},
   "outputs": [
    {
     "data": {
      "text/plain": [
       "(39, 69)"
      ]
     },
     "execution_count": 14,
     "metadata": {},
     "output_type": "execute_result"
    }
   ],
   "source": [
    "img_plot_data[0][2].shape"
   ]
  },
  {
   "cell_type": "code",
   "execution_count": 15,
   "metadata": {
    "scrolled": true
   },
   "outputs": [
    {
     "data": {
      "text/plain": [
       "<Figure size 576x216 with 0 Axes>"
      ]
     },
     "metadata": {},
     "output_type": "display_data"
    }
   ],
   "source": [
    "img_plot = tw.open(img_plot_data, type='image', rows=2, cols=5)\n",
    "img_plot.show()"
   ]
  },
  {
   "cell_type": "code",
   "execution_count": 25,
   "metadata": {
    "scrolled": true
   },
   "outputs": [
    {
     "data": {
      "text/plain": [
       "<matplotlib.image.AxesImage at 0x1ee01046d30>"
      ]
     },
     "execution_count": 25,
     "metadata": {},
     "output_type": "execute_result"
    },
    {
     "data": {
      "image/png": "[encoded data removed]",
      "text/plain": [
       "<Figure size 432x288 with 1 Axes>"
      ]
     },
     "metadata": {},
     "output_type": "display_data"
    }
   ],
   "source": [
    "plt.imshow(img_plot_data[7][0])"
   ]
  },
  {
   "cell_type": "code",
   "execution_count": 26,
   "metadata": {},
   "outputs": [
    {
     "data": {
      "text/plain": [
       "<matplotlib.image.AxesImage at 0x1ee010a7cf8>"
      ]
     },
     "execution_count": 26,
     "metadata": {},
     "output_type": "execute_result"
    },
    {
     "data": {
      "image/png": "[encoded data removed]",
      "text/plain": [
       "<Figure size 432x288 with 1 Axes>"
      ]
     },
     "metadata": {},
     "output_type": "display_data"
    }
   ],
   "source": [
    "plt.imshow(img_plot_data[7][2])"
   ]
  },
  {
   "cell_type": "code",
   "execution_count": 27,
   "metadata": {},
   "outputs": [
    {
     "data": {
      "text/plain": [
       "<matplotlib.image.AxesImage at 0x1ee01105cc0>"
      ]
     },
     "execution_count": 27,
     "metadata": {},
     "output_type": "execute_result"
    },
    {
     "data": {
      "image/png": "[encoded data removed]",
      "text/plain": [
       "<Figure size 432x288 with 1 Axes>"
      ]
     },
     "metadata": {},
     "output_type": "display_data"
    }
   ],
   "source": [
    "plt.imshow(img_plot_data[9][0])"
   ]
  },
  {
   "cell_type": "code",
   "execution_count": 28,
   "metadata": {},
   "outputs": [
    {
     "data": {
      "text/plain": [
       "<matplotlib.image.AxesImage at 0x1ee01166a90>"
      ]
     },
     "execution_count": 28,
     "metadata": {},
     "output_type": "execute_result"
    },
    {
     "data": {
      "image/png": "[encoded data removed]",
      "text/plain": [
       "<Figure size 432x288 with 1 Axes>"
      ]
     },
     "metadata": {},
     "output_type": "display_data"
    }
   ],
   "source": [
    "plt.imshow(img_plot_data[9][2])"
   ]
  }
 ],
 "metadata": {
  "kernelspec": {
   "display_name": "Python 3",
   "language": "python",
   "name": "python3"
  },
  "language_info": {
   "codemirror_mode": {
    "name": "ipython",
    "version": 3
   },
   "file_extension": ".py",
   "mimetype": "text/x-python",
   "name": "python",
   "nbconvert_exporter": "python",
   "pygments_lexer": "ipython3",
   "version": "3.6.5"
  }
 },
 "nbformat": 4,
 "nbformat_minor": 2
}
