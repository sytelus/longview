{
 "cells": [
  {
   "cell_type": "code",
   "execution_count": 1,
   "metadata": {
    "scrolled": true
   },
   "outputs": [],
   "source": [
    "from regim import *\n",
    "import tensorwatch as tw\n",
    "import numpy as np"
   ]
  },
  {
   "cell_type": "code",
   "execution_count": 2,
   "metadata": {
    "scrolled": true
   },
   "outputs": [],
   "source": [
    "ds = DataUtils.mnist_datasets(linearize=True, train_test=False)\n",
    "ds = DataUtils.sample_by_class(ds, k=100, shuffle=True, as_np=True, no_test=True)"
   ]
  },
  {
   "cell_type": "code",
   "execution_count": 3,
   "metadata": {},
   "outputs": [
    {
     "data": {
      "text/plain": [
       "2"
      ]
     },
     "execution_count": 3,
     "metadata": {},
     "output_type": "execute_result"
    }
   ],
   "source": [
    "len(ds)"
   ]
  },
  {
   "cell_type": "code",
   "execution_count": 4,
   "metadata": {},
   "outputs": [
    {
     "data": {
      "text/plain": [
       "784"
      ]
     },
     "execution_count": 4,
     "metadata": {},
     "output_type": "execute_result"
    }
   ],
   "source": [
    "ds[0][1].shape[0]"
   ]
  },
  {
   "cell_type": "code",
   "execution_count": 5,
   "metadata": {
    "scrolled": false
   },
   "outputs": [],
   "source": [
    "#show_image(ds[0][1])"
   ]
  },
  {
   "cell_type": "code",
   "execution_count": 6,
   "metadata": {},
   "outputs": [],
   "source": [
    "from sklearn.manifold import TSNE\n",
    "from sklearn.preprocessing import StandardScaler"
   ]
  },
  {
   "cell_type": "code",
   "execution_count": 7,
   "metadata": {},
   "outputs": [
    {
     "data": {
      "text/plain": [
       "(1000, 784)"
      ]
     },
     "execution_count": 7,
     "metadata": {},
     "output_type": "execute_result"
    }
   ],
   "source": [
    "imgs = StandardScaler().fit_transform(ds[0])\n",
    "imgs.shape"
   ]
  },
  {
   "cell_type": "code",
   "execution_count": 8,
   "metadata": {},
   "outputs": [],
   "source": [
    "tsne = TSNE(n_components=3, perplexity=20)\n",
    "tsne_results = tsne.fit_transform(imgs) "
   ]
  },
  {
   "cell_type": "code",
   "execution_count": 9,
   "metadata": {},
   "outputs": [
    {
     "data": {
      "text/plain": [
       "(1000, 3)"
      ]
     },
     "execution_count": 9,
     "metadata": {},
     "output_type": "execute_result"
    }
   ],
   "source": [
    "tsne_results.shape"
   ]
  },
  {
   "cell_type": "code",
   "execution_count": 10,
   "metadata": {},
   "outputs": [],
   "source": [
    "import matplotlib.pyplot as plt\n",
    "import math\n",
    "def show_image(img):\n",
    "    if hasattr(img, 'shape'):\n",
    "        if len(img.shape) == 1:\n",
    "            h = int(math.sqrt(img.shape[0]))\n",
    "            img = np.reshape(img, (h, int(img.shape[0] / h)))\n",
    "    plt.imshow(img)"
   ]
  },
  {
   "cell_type": "code",
   "execution_count": 11,
   "metadata": {},
   "outputs": [
    {
     "data": {
      "application/vnd.jupyter.widget-view+json": {
       "model_id": "478698e4f08b424a9d16d2974afe8d0f",
       "version_major": 2,
       "version_minor": 0
      },
      "text/plain": [
       "HBox(children=(FigureWidget({\n",
       "    'data': [{'hoverinfo': 'text',\n",
       "              'marker': {'color': array([3, 8…"
      ]
     },
     "metadata": {},
     "output_type": "display_data"
    },
    {
     "data": {
      "image/png": "[encoded data removed]",
      "text/plain": [
       "<Figure size 432x288 with 1 Axes>"
      ]
     },
     "metadata": {},
     "output_type": "display_data"
    }
   ],
   "source": [
    "import plotly.offline as py\n",
    "import plotly.graph_objs as go\n",
    "from plotly.callbacks import Points, InputDeviceState\n",
    "\n",
    "traceTSNE = go.Scatter3d(\n",
    "    x = tsne_results[:,0],\n",
    "    y = tsne_results[:,1],\n",
    "    z = tsne_results[:,2],\n",
    "    text = [str(l) for l in ds[1]],\n",
    "#     hoveron = Target,\n",
    "    mode = 'markers+text',\n",
    "#     text = Target.unique(),\n",
    "    showlegend = False,\n",
    "    hoverinfo = 'text',\n",
    "    marker = dict(\n",
    "        size = 6,\n",
    "        color = ds[1],\n",
    "        colorscale ='Jet',\n",
    "        showscale = False,\n",
    "        line = dict(\n",
    "            width = 2,\n",
    "            color = 'rgb(255, 255, 255)'\n",
    "        ),\n",
    "        opacity = 0.8\n",
    "    )\n",
    ")\n",
    "data = [traceTSNE]\n",
    "\n",
    "layout = dict(title = 'TSNE (T-Distributed Stochastic Neighbour Embedding)',\n",
    "                hovermode= 'closest',\n",
    "                yaxis = dict(zeroline = False),\n",
    "                xaxis = dict(zeroline = False),\n",
    "                showlegend= True,\n",
    "                margin=dict(\n",
    "                        l=0,\n",
    "                        r=0,\n",
    "                        b=0,\n",
    "                        t=0\n",
    "                    )\n",
    "             )\n",
    "\n",
    "from ipywidgets import HBox, VBox, Image, Layout, Output\n",
    "from IPython.display import display, clear_output\n",
    "image_widget = Output()\n",
    "figure = plt.figure()\n",
    "ax_main = figure.add_subplot(111)\n",
    "figwig = go.FigureWidget(data=data, layout=layout)\n",
    "\n",
    "\n",
    "def hover_fn(trace, points, state):\n",
    "    global image_widget\n",
    "    ind = points.point_inds[0]\n",
    "    with image_widget:\n",
    "        clear_output(wait=True)    \n",
    "        ax_main.imshow(np.reshape(ds[0][ind],(28,28)))\n",
    "        display(figure)\n",
    "figwig.data[0].on_hover(hover_fn)\n",
    "\n",
    "\n",
    "\n",
    "HBox([figwig, image_widget], layout=Layout(height='8in'))"
   ]
  },
  {
   "cell_type": "code",
   "execution_count": 12,
   "metadata": {},
   "outputs": [
    {
     "name": "stdout",
     "output_type": "stream",
     "text": [
      "Help on method on_hover in module plotly.basedatatypes:\n",
      "\n",
      "on_hover(callback, append=False) method of plotly.graph_objs._scatter3d.Scatter3d instance\n",
      "    Register function to be called when the user hovers over one or more\n",
      "    points in this trace\n",
      "    \n",
      "    Note: Callbacks will only be triggered when the trace belongs to a\n",
      "    instance of plotly.graph_objs.FigureWidget and it is displayed in an\n",
      "    ipywidget context. Callbacks will not be triggered on figures\n",
      "    that are displayed using plot/iplot.\n",
      "    \n",
      "    Parameters\n",
      "    ----------\n",
      "    callback\n",
      "        Callable function that accepts 3 arguments\n",
      "    \n",
      "        - this trace\n",
      "        - plotly.callbacks.Points object\n",
      "        - plotly.callbacks.InputDeviceState object\n",
      "    \n",
      "    append : bool\n",
      "        If False (the default), this callback replaces any previously\n",
      "        defined on_hover callbacks for this trace. If True,\n",
      "        this callback is appended to the list of any previously defined\n",
      "        callbacks.\n",
      "    \n",
      "    Returns\n",
      "    -------\n",
      "    None\n",
      "    \n",
      "    Examples\n",
      "    --------\n",
      "    >>> from plotly.callbacks import Points, InputDeviceState\n",
      "    >>> points, state = Points(), InputDeviceState()\n",
      "    \n",
      "    >>> def hover_fn(trace, points, state):\n",
      "    ...     inds = points.point_inds\n",
      "    ...     # Do something\n",
      "    \n",
      "    >>> trace.on_hover(hover_fn)\n",
      "    \n",
      "    Note: The creation of the `points` and `state` objects is optional,\n",
      "    it's simply a convenience to help the text editor perform completion\n",
      "    on the arguments inside `hover_fn`\n",
      "\n"
     ]
    }
   ],
   "source": [
    "help(figwig.data[0].on_hover)"
   ]
  }
 ],
 "metadata": {
  "kernelspec": {
   "display_name": "Python 3",
   "language": "python",
   "name": "python3"
  },
  "language_info": {
   "codemirror_mode": {
    "name": "ipython",
    "version": 3
   },
   "file_extension": ".py",
   "mimetype": "text/x-python",
   "name": "python",
   "nbconvert_exporter": "python",
   "pygments_lexer": "ipython3",
   "version": "3.6.5"
  }
 },
 "nbformat": 4,
 "nbformat_minor": 2
}
