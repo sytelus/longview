{
 "cells": [
  {
   "cell_type": "code",
   "execution_count": 1,
   "metadata": {},
   "outputs": [],
   "source": [
    "import plotly\n",
    "import plotly.graph_objs as go"
   ]
  },
  {
   "cell_type": "code",
   "execution_count": 2,
   "metadata": {
    "scrolled": true
   },
   "outputs": [
    {
     "data": {
      "application/vnd.jupyter.widget-view+json": {
       "model_id": "f66f19dfcf634d1485c75f09df9b5cce",
       "version_major": 2,
       "version_minor": 0
      },
      "text/plain": [
       "FigureWidget({\n",
       "    'data': [{'mode': 'lines',\n",
       "              'type': 'scatter',\n",
       "              'uid': '0fb09e9a-…"
      ]
     },
     "metadata": {},
     "output_type": "display_data"
    }
   ],
   "source": [
    "t1=go.Scatter(x=[0, 1, 2], y=[0, 1, 8], mode='lines')\n",
    "f2=go.FigureWidget([t1])\n",
    "f2"
   ]
  },
  {
   "cell_type": "code",
   "execution_count": 3,
   "metadata": {},
   "outputs": [],
   "source": [
    "t2=go.Scatter(x=[4, 5, 6, 7], y=[0, 1, 2, 3], mode='lines', yaxis='y2')\n",
    "f2.add_trace(t2)\n",
    "yaxis2 = {'title':'Y2', 'side':'right', 'overlaying':'y'}\n",
    "f2.layout['yaxis2']=yaxis2"
   ]
  },
  {
   "cell_type": "code",
   "execution_count": 4,
   "metadata": {},
   "outputs": [],
   "source": [
    "f2.data[0].x=[1, 2, 3, 4]\n",
    "f2.data[0].y=[4, 2, 1, 7]\n",
    "f2.data[1].x=[14, 15,16, 17]\n",
    "f2.data[1].y=[14, 12, 11, 17]"
   ]
  },
  {
   "cell_type": "code",
   "execution_count": 5,
   "metadata": {},
   "outputs": [
    {
     "data": {
      "text/plain": [
       "Scatter({\n",
       "    'mode': 'lines',\n",
       "    'uid': '101438fa-3f05-11e9-993d-5065f32d5635',\n",
       "    'x': [14, 15, 16, 1, 7],\n",
       "    'y': [10, 1, 12, 3],\n",
       "    'yaxis': 'y3'\n",
       "})"
      ]
     },
     "execution_count": 5,
     "metadata": {},
     "output_type": "execute_result"
    }
   ],
   "source": [
    "t3=go.Scatter(x=[14, 15, 16,1, 7], y=[10, 1, 12, 3], mode='lines', yaxis='y3')\n",
    "f2.add_trace(t3)"
   ]
  },
  {
   "cell_type": "code",
   "execution_count": 6,
   "metadata": {},
   "outputs": [],
   "source": [
    "yaxis2 = {'title':'Y2', 'side':'right', 'overlaying':'y', 'anchor':'x'}\n",
    "f2.layout['yaxis2']=yaxis2\n",
    "yaxis3 = {'title':'Y3', 'side':'right', 'anchor':'free', 'overlaying':'y', 'position':1}\n",
    "f2.layout['yaxis3']=yaxis3"
   ]
  },
  {
   "cell_type": "code",
   "execution_count": 8,
   "metadata": {},
   "outputs": [],
   "source": [
    "f2.layout['xaxis'] = dict(rangeslider=dict(\n",
    "            visible = True\n",
    "        ))"
   ]
  }
 ],
 "metadata": {
  "kernelspec": {
   "display_name": "Python 3",
   "language": "python",
   "name": "python3"
  },
  "language_info": {
   "codemirror_mode": {
    "name": "ipython",
    "version": 3
   },
   "file_extension": ".py",
   "mimetype": "text/x-python",
   "name": "python",
   "nbconvert_exporter": "python",
   "pygments_lexer": "ipython3",
   "version": "3.6.5"
  }
 },
 "nbformat": 4,
 "nbformat_minor": 2
}
