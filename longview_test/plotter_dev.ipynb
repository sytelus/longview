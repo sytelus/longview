{
 "cells": [
  {
   "cell_type": "code",
   "execution_count": 1,
   "metadata": {
    "scrolled": true
   },
   "outputs": [],
   "source": [
    "import longview as lv\n",
    "import plotly\n",
    "import plotly.offline as py"
   ]
  },
  {
   "cell_type": "code",
   "execution_count": 2,
   "metadata": {
    "scrolled": false
   },
   "outputs": [
    {
     "data": {
      "application/vnd.jupyter.widget-view+json": {
       "model_id": "af19045ddc5141a392f172d9ebf1bcc0",
       "version_major": 2,
       "version_minor": 0
      },
      "text/plain": [
       "FigureWidget({\n",
       "    'data': [{'mode': 'lines',\n",
       "              'name': 'Demo',\n",
       "              'type': 'scatter',\n",
       " …"
      ]
     },
     "metadata": {},
     "output_type": "display_data"
    },
    {
     "name": "stderr",
     "output_type": "stream",
     "text": [
      "Exception in callback BaseAsyncIOLoop._handle_events(3244, 1)\n",
      "handle: <Handle BaseAsyncIOLoop._handle_events(3244, 1)>\n",
      "Traceback (most recent call last):\n",
      "  File \"C:\\ProgramData\\Anaconda3\\lib\\asyncio\\events.py\", line 145, in _run\n",
      "    self._callback(*self._args)\n",
      "  File \"C:\\ProgramData\\Anaconda3\\lib\\site-packages\\tornado\\platform\\asyncio.py\", line 122, in _handle_events\n",
      "    handler_func(fileobj, events)\n",
      "  File \"C:\\ProgramData\\Anaconda3\\lib\\site-packages\\tornado\\stack_context.py\", line 300, in null_wrapper\n",
      "    return fn(*args, **kwargs)\n",
      "  File \"C:\\ProgramData\\Anaconda3\\lib\\site-packages\\zmq\\eventloop\\zmqstream.py\", line 450, in _handle_events\n",
      "    self._handle_recv()\n",
      "  File \"C:\\ProgramData\\Anaconda3\\lib\\site-packages\\zmq\\eventloop\\zmqstream.py\", line 480, in _handle_recv\n",
      "    self._run_callback(callback, msg)\n",
      "  File \"C:\\ProgramData\\Anaconda3\\lib\\site-packages\\zmq\\eventloop\\zmqstream.py\", line 432, in _run_callback\n",
      "    callback(*args, **kwargs)\n",
      "  File \"C:\\ProgramData\\Anaconda3\\lib\\site-packages\\tornado\\stack_context.py\", line 300, in null_wrapper\n",
      "    return fn(*args, **kwargs)\n",
      "  File \"d:\\githubsrc\\longview\\longview\\zmq_pub_sub.py\", line 139, in callback_wrapper\n",
      "    weak_callback()(dill.loads(obj_s))\n",
      "  File \"d:\\githubsrc\\longview\\longview\\watch_client.py\", line 138, in _on_event_eval\n",
      "    self._streams[eval_result.stream_name].on_event_eval(eval_result)\n",
      "  File \"d:\\githubsrc\\longview\\longview\\watch_client.py\", line 32, in on_event_eval\n",
      "    self._make_callbacks(se)\n",
      "  File \"d:\\githubsrc\\longview\\longview\\watch_client.py\", line 40, in _make_callbacks\n",
      "    callback()(stream_event)\n",
      "  File \"d:\\githubsrc\\longview\\longview\\plotly\\base_plot.py\", line 87, in _add_eval_result\n",
      "    self._plot_eval_result(vals, stream_plot, eval_result)\n",
      "  File \"d:\\githubsrc\\longview\\longview\\plotly\\line_plot.py\", line 29, in _plot_eval_result\n",
      "    for val in vals:\n",
      "TypeError: 'NoneType' object is not iterable\n",
      "Exception in thread RepeatedTimer:\n",
      "Traceback (most recent call last):\n",
      "  File \"C:\\ProgramData\\Anaconda3\\lib\\threading.py\", line 916, in _bootstrap_inner\n",
      "    self.run()\n",
      "  File \"C:\\ProgramData\\Anaconda3\\lib\\threading.py\", line 864, in run\n",
      "    self._target(*self._args, **self._kwargs)\n",
      "  File \"d:\\githubsrc\\longview\\longview\\repeated_timer.py\", line 55, in _runner\n",
      "    self.callback()()\n",
      "  File \"d:\\githubsrc\\longview\\longview\\watch_client.py\", line 165, in _send_heartbeat\n",
      "    self._clisrv.send_obj(clisrv_req)\n",
      "  File \"d:\\githubsrc\\longview\\longview\\zmq_pub_sub.py\", line 234, in send_obj\n",
      "    [dill.dumps(obj)])\n",
      "  File \"d:\\githubsrc\\longview\\longview\\zmq_pub_sub.py\", line 92, in _io_loop_call\n",
      "    ZmqPubSub._ioloop.add_callback(f_wrapped)\n",
      "AttributeError: 'NoneType' object has no attribute 'add_callback'\n",
      "\n"
     ]
    }
   ],
   "source": [
    "cli = lv.WatchClient()\n",
    "s1 = cli.create_stream('ev_i', 'map(lambda v:math.sqrt(v.val)*2, l)')\n",
    "\n",
    "p = lv.plotly.LinePlot('Demo')\n",
    "p.add(s1, xtitle='Index', ytitle='sqrt(ev_i)')"
   ]
  },
  {
   "cell_type": "code",
   "execution_count": 3,
   "metadata": {
    "scrolled": false
   },
   "outputs": [],
   "source": [
    "s2 = cli.create_stream('ev_j', 'map(lambda v:v.val, l)')\n",
    "p.add(s2, ytitle='ev_j')"
   ]
  }
 ],
 "metadata": {
  "kernelspec": {
   "display_name": "Python 3",
   "language": "python",
   "name": "python3"
  },
  "language_info": {
   "codemirror_mode": {
    "name": "ipython",
    "version": 3
   },
   "file_extension": ".py",
   "mimetype": "text/x-python",
   "name": "python",
   "nbconvert_exporter": "python",
   "pygments_lexer": "ipython3",
   "version": "3.6.5"
  }
 },
 "nbformat": 4,
 "nbformat_minor": 2
}
