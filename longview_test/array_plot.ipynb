{
 "cells": [
  {
   "cell_type": "code",
   "execution_count": 1,
   "metadata": {},
   "outputs": [],
   "source": [
    "import longview as lv"
   ]
  },
  {
   "cell_type": "code",
   "execution_count": 2,
   "metadata": {
    "scrolled": false
   },
   "outputs": [
    {
     "data": {
      "application/vnd.jupyter.widget-view+json": {
       "model_id": "99d8e9f4098f49c9bd450afae68b5a55",
       "version_major": 2,
       "version_minor": 0
      },
      "text/plain": [
       "FigureWidget({\n",
       "    'data': [{'mode': 'lines',\n",
       "              'name': 'Demo',\n",
       "              'type': 'scatter',\n",
       " …"
      ]
     },
     "metadata": {},
     "output_type": "display_data"
    },
    {
     "name": "stdout",
     "output_type": "stream",
     "text": [
      "1 1.0\n",
      "0 0.05\n",
      "2 1.0\n",
      "0 0.525\n",
      "1 0.05\n",
      "0 1.0\n",
      "1 0.525\n",
      "2 0.05\n",
      "1 1.0\n",
      "2 0.525\n",
      "0 0.05\n",
      "2 1.0\n",
      "0 0.525\n",
      "1 0.05\n",
      "0 1.0\n",
      "1 0.525\n",
      "2 0.05\n",
      "1 1.0\n",
      "2 0.525\n",
      "0 0.05\n",
      "2 1.0\n",
      "0 0.525\n",
      "1 0.05\n",
      "0 1.0\n",
      "1 0.525\n",
      "2 0.05\n",
      "1 1.0\n",
      "2 0.525\n",
      "0 0.05\n",
      "2 1.0\n",
      "0 0.525\n",
      "1 0.05\n"
     ]
    }
   ],
   "source": [
    "train_cli = lv.WatchClient()\n",
    "grads = train_cli.create_stream('batch', 'map(lambda d:agg_params(d.model, lambda p: p.grad.abs().mean().item()), l)', throttle=1)\n",
    "p = lv.plotly.ArrayPlot('Demo')\n",
    "p.add(grads, xtitle='Epoch', ytitle='Gradients', history_len=3, new_on_eval=True)"
   ]
  }
 ],
 "metadata": {
  "kernelspec": {
   "display_name": "Python 3",
   "language": "python",
   "name": "python3"
  },
  "language_info": {
   "codemirror_mode": {
    "name": "ipython",
    "version": 3
   },
   "file_extension": ".py",
   "mimetype": "text/x-python",
   "name": "python",
   "nbconvert_exporter": "python",
   "pygments_lexer": "ipython3",
   "version": "3.6.5"
  }
 },
 "nbformat": 4,
 "nbformat_minor": 2
}
