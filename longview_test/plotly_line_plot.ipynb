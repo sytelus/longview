{
 "cells": [
  {
   "cell_type": "code",
   "execution_count": 1,
   "metadata": {
    "scrolled": false
   },
   "outputs": [],
   "source": [
    "import longview as lv\n",
    "#lv.set_debug_verbosity(5)"
   ]
  },
  {
   "cell_type": "code",
   "execution_count": 2,
   "metadata": {
    "scrolled": false
   },
   "outputs": [],
   "source": [
    "cli = lv.WatchClient()\n",
    "p = lv.plotly.LinePlot('Demo')"
   ]
  },
  {
   "cell_type": "code",
   "execution_count": 3,
   "metadata": {},
   "outputs": [],
   "source": [
    "# s1 = cli.create_stream('ev_i', 'map(lambda v:math.sqrt(v.val)*2, l)')\n",
    "# p.add(s1, xtitle='Index', ytitle='sqrt(ev_i)')"
   ]
  },
  {
   "cell_type": "code",
   "execution_count": 4,
   "metadata": {
    "scrolled": false
   },
   "outputs": [
    {
     "data": {
      "application/vnd.jupyter.widget-view+json": {
       "model_id": "28e4df49fcbf42388b5c56bc73a712be",
       "version_major": 2,
       "version_minor": 0
      },
      "text/plain": [
       "FigureWidget({\n",
       "    'data': [{'line': {'color': 'rgb(31, 119, 180)'},\n",
       "              'mode': 'lines',\n",
       "          …"
      ]
     },
     "metadata": {},
     "output_type": "display_data"
    },
    {
     "name": "stderr",
     "output_type": "stream",
     "text": [
      "Exception in callback BaseAsyncIOLoop._handle_events(2120, 1)\n",
      "handle: <Handle BaseAsyncIOLoop._handle_events(2120, 1)>\n",
      "Traceback (most recent call last):\n",
      "  File \"C:\\ProgramData\\Anaconda3\\lib\\asyncio\\events.py\", line 145, in _run\n",
      "    self._callback(*self._args)\n",
      "  File \"C:\\ProgramData\\Anaconda3\\lib\\site-packages\\tornado\\platform\\asyncio.py\", line 122, in _handle_events\n",
      "    handler_func(fileobj, events)\n",
      "  File \"C:\\ProgramData\\Anaconda3\\lib\\site-packages\\tornado\\stack_context.py\", line 300, in null_wrapper\n",
      "    return fn(*args, **kwargs)\n",
      "  File \"C:\\ProgramData\\Anaconda3\\lib\\site-packages\\zmq\\eventloop\\zmqstream.py\", line 450, in _handle_events\n",
      "    self._handle_recv()\n",
      "  File \"C:\\ProgramData\\Anaconda3\\lib\\site-packages\\zmq\\eventloop\\zmqstream.py\", line 480, in _handle_recv\n",
      "    self._run_callback(callback, msg)\n",
      "  File \"C:\\ProgramData\\Anaconda3\\lib\\site-packages\\zmq\\eventloop\\zmqstream.py\", line 432, in _run_callback\n",
      "    callback(*args, **kwargs)\n",
      "  File \"C:\\ProgramData\\Anaconda3\\lib\\site-packages\\tornado\\stack_context.py\", line 300, in null_wrapper\n",
      "    return fn(*args, **kwargs)\n",
      "  File \"d:\\githubsrc\\longview\\longview\\zmq_pub_sub.py\", line 140, in callback_wrapper\n",
      "    weak_callback()(dill.loads(obj_s))\n",
      "  File \"d:\\githubsrc\\longview\\longview\\watch_client.py\", line 138, in _on_event_eval\n",
      "    self._streams[eval_result.stream_name].on_event_eval(eval_result)\n",
      "  File \"d:\\githubsrc\\longview\\longview\\watch_client.py\", line 32, in on_event_eval\n",
      "    self._make_callbacks(se)\n",
      "  File \"d:\\githubsrc\\longview\\longview\\watch_client.py\", line 40, in _make_callbacks\n",
      "    callback()(stream_event)\n",
      "  File \"d:\\githubsrc\\longview\\longview\\plotly\\base_plot.py\", line 103, in _add_eval_result\n",
      "    if stream_plot._last_event_ended and stream_plot.clear_after_end:\n",
      "AttributeError: 'StreamPlot' object has no attribute '_last_event_ended'\n"
     ]
    }
   ],
   "source": [
    "s2 = cli.create_stream('ev_j', 'map(lambda v:(v.x, v.val), l)')\n",
    "p.add(s2, ytitle='ev_j')"
   ]
  },
  {
   "cell_type": "code",
   "execution_count": 5,
   "metadata": {},
   "outputs": [],
   "source": [
    "# s3 = cli.create_stream('ev_j', 'map(lambda v:v.val*v.val, l)')\n",
    "# p.add(s3, ytitle='ev_j^2')"
   ]
  },
  {
   "cell_type": "code",
   "execution_count": 6,
   "metadata": {},
   "outputs": [],
   "source": [
    "# s4 = cli.create_stream('ev_i', 'map(lambda v:v.val*0.5, l)')\n",
    "# p.add(s4, ytitle='ev_i half')"
   ]
  }
 ],
 "metadata": {
  "kernelspec": {
   "display_name": "Python 3",
   "language": "python",
   "name": "python3"
  },
  "language_info": {
   "codemirror_mode": {
    "name": "ipython",
    "version": 3
   },
   "file_extension": ".py",
   "mimetype": "text/x-python",
   "name": "python",
   "nbconvert_exporter": "python",
   "pygments_lexer": "ipython3",
   "version": "3.6.5"
  }
 },
 "nbformat": 4,
 "nbformat_minor": 2
}
