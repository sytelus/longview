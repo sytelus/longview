{
 "cells": [
  {
   "cell_type": "code",
   "execution_count": 1,
   "metadata": {
    "scrolled": true
   },
   "outputs": [],
   "source": [
    "import longview as lv"
   ]
  },
  {
   "cell_type": "code",
   "execution_count": 2,
   "metadata": {
    "scrolled": true
   },
   "outputs": [
    {
     "ename": "NameError",
     "evalue": "name 'ytitle' is not defined",
     "output_type": "error",
     "traceback": [
      "\u001b[1;31m---------------------------------------------------------------------------\u001b[0m",
      "\u001b[1;31mNameError\u001b[0m                                 Traceback (most recent call last)",
      "\u001b[1;32m<ipython-input-2-142442143504>\u001b[0m in \u001b[0;36m<module>\u001b[1;34m\u001b[0m\n\u001b[0;32m      3\u001b[0m \u001b[1;33m\u001b[0m\u001b[0m\n\u001b[0;32m      4\u001b[0m \u001b[0mp\u001b[0m \u001b[1;33m=\u001b[0m \u001b[0mlv\u001b[0m\u001b[1;33m.\u001b[0m\u001b[0mplotly\u001b[0m\u001b[1;33m.\u001b[0m\u001b[0mLinePlot\u001b[0m\u001b[1;33m(\u001b[0m\u001b[1;34m'Demo'\u001b[0m\u001b[1;33m)\u001b[0m\u001b[1;33m\u001b[0m\u001b[0m\n\u001b[1;32m----> 5\u001b[1;33m \u001b[0mp\u001b[0m\u001b[1;33m.\u001b[0m\u001b[0madd\u001b[0m\u001b[1;33m(\u001b[0m\u001b[0ms1\u001b[0m\u001b[1;33m,\u001b[0m \u001b[0mxtitle\u001b[0m\u001b[1;33m=\u001b[0m\u001b[1;34m'Index'\u001b[0m\u001b[1;33m,\u001b[0m \u001b[0mytitle\u001b[0m\u001b[1;33m=\u001b[0m\u001b[1;34m'sqrt(ev_i)'\u001b[0m\u001b[1;33m)\u001b[0m\u001b[1;33m\u001b[0m\u001b[0m\n\u001b[0m",
      "\u001b[1;32md:\\githubsrc\\longview\\longview\\plotly\\base_plot.py\u001b[0m in \u001b[0;36madd\u001b[1;34m(self, stream, show, **stream_args)\u001b[0m\n\u001b[0;32m     40\u001b[0m                 if not utils.is_uuid4(stream.stream_name) else ytitle)\n\u001b[0;32m     41\u001b[0m \u001b[1;33m\u001b[0m\u001b[0m\n\u001b[1;32m---> 42\u001b[1;33m             \u001b[0mstream_plot\u001b[0m \u001b[1;33m=\u001b[0m \u001b[0mStreamPlot\u001b[0m\u001b[1;33m(\u001b[0m\u001b[0mstream\u001b[0m\u001b[1;33m,\u001b[0m \u001b[0mthrottle\u001b[0m\u001b[1;33m=\u001b[0m\u001b[1;32mNone\u001b[0m\u001b[1;33m,\u001b[0m \u001b[0mtitle\u001b[0m\u001b[1;33m=\u001b[0m\u001b[0mytitle\u001b[0m\u001b[1;33m)\u001b[0m\u001b[1;33m\u001b[0m\u001b[0m\n\u001b[0m\u001b[0;32m     43\u001b[0m             \u001b[0mstream_plot\u001b[0m\u001b[1;33m.\u001b[0m\u001b[0mindex\u001b[0m \u001b[1;33m=\u001b[0m \u001b[0mlen\u001b[0m\u001b[1;33m(\u001b[0m\u001b[0mself\u001b[0m\u001b[1;33m.\u001b[0m\u001b[0m_stream_plots\u001b[0m\u001b[1;33m)\u001b[0m\u001b[1;33m\u001b[0m\u001b[0m\n\u001b[0;32m     44\u001b[0m             \u001b[0mstream_plot\u001b[0m\u001b[1;33m.\u001b[0m\u001b[0mstream_args\u001b[0m \u001b[1;33m=\u001b[0m \u001b[0mstream_args\u001b[0m\u001b[1;33m\u001b[0m\u001b[0m\n",
      "\u001b[1;31mNameError\u001b[0m: name 'ytitle' is not defined"
     ]
    }
   ],
   "source": [
    "cli = lv.WatchClient()\n",
    "s1 = cli.create_stream('ev_i', 'map(lambda v:math.sqrt(v.val)*2, l)')\n",
    "\n",
    "p = lv.plotly.LinePlot('Demo')\n",
    "p.add(s1, xtitle='Index', ytitle='sqrt(ev_i)')"
   ]
  },
  {
   "cell_type": "code",
   "execution_count": null,
   "metadata": {
    "scrolled": false
   },
   "outputs": [],
   "source": [
    "s2 = cli.create_stream('ev_j', 'map(lambda v:v.val, l)')\n",
    "p.add(s2, ytitle='ev_j')"
   ]
  },
  {
   "cell_type": "code",
   "execution_count": null,
   "metadata": {},
   "outputs": [],
   "source": [
    "s3 = cli.create_stream('ev_j', 'map(lambda v:v.val*v.val, l)')\n",
    "p.add(s3, ytitle='ev_j^2')"
   ]
  },
  {
   "cell_type": "code",
   "execution_count": null,
   "metadata": {},
   "outputs": [],
   "source": [
    "s4 = cli.create_stream('ev_i', 'map(lambda v:v.val*0.5, l)')\n",
    "p.add(s4, ytitle='ev_i half')"
   ]
  }
 ],
 "metadata": {
  "kernelspec": {
   "display_name": "Python 3",
   "language": "python",
   "name": "python3"
  },
  "language_info": {
   "codemirror_mode": {
    "name": "ipython",
    "version": 3
   },
   "file_extension": ".py",
   "mimetype": "text/x-python",
   "name": "python",
   "nbconvert_exporter": "python",
   "pygments_lexer": "ipython3",
   "version": "3.6.5"
  }
 },
 "nbformat": 4,
 "nbformat_minor": 2
}
