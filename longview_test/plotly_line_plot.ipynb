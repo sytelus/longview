{
 "cells": [
  {
   "cell_type": "code",
   "execution_count": 1,
   "metadata": {
    "scrolled": true
   },
   "outputs": [],
   "source": [
    "import longview as lv\n",
    "#lv.set_debug_verbosity(5)"
   ]
  },
  {
   "cell_type": "code",
   "execution_count": null,
   "metadata": {
    "scrolled": false
   },
   "outputs": [],
   "source": [
    "cli = lv.WatchClient()\n",
    "p = lv.plotly.LinePlot('Demo')"
   ]
  },
  {
   "cell_type": "code",
   "execution_count": null,
   "metadata": {},
   "outputs": [],
   "source": [
    "# s1 = cli.create_stream('ev_i', 'map(lambda v:math.sqrt(v.val)*2, l)')\n",
    "# p.add(s1, xtitle='Index', ytitle='sqrt(ev_i)')"
   ]
  },
  {
   "cell_type": "code",
   "execution_count": null,
   "metadata": {
    "scrolled": false
   },
   "outputs": [],
   "source": [
    "s2 = cli.create_stream('ev_j', 'map(lambda v:(v.x, v.val), l)')\n",
    "p.add(s2, ytitle='ev_j')\n",
    "p.show()"
   ]
  },
  {
   "cell_type": "code",
   "execution_count": null,
   "metadata": {},
   "outputs": [],
   "source": [
    "# s3 = cli.create_stream('ev_j', 'map(lambda v:v.val*v.val, l)')\n",
    "# p.add(s3, ytitle='ev_j^2')"
   ]
  },
  {
   "cell_type": "code",
   "execution_count": null,
   "metadata": {},
   "outputs": [],
   "source": [
    "# s4 = cli.create_stream('ev_i', 'map(lambda v:v.val*0.5, l)')\n",
    "# p.add(s4, ytitle='ev_i half')"
   ]
  }
 ],
 "metadata": {
  "kernelspec": {
   "display_name": "Python 3",
   "language": "python",
   "name": "python3"
  },
  "language_info": {
   "codemirror_mode": {
    "name": "ipython",
    "version": 3
   },
   "file_extension": ".py",
   "mimetype": "text/x-python",
   "name": "python",
   "nbconvert_exporter": "python",
   "pygments_lexer": "ipython3",
   "version": "3.6.5"
  }
 },
 "nbformat": 4,
 "nbformat_minor": 2
}
